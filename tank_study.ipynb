{
 "metadata": {
  "language_info": {
   "codemirror_mode": {
    "name": "ipython",
    "version": 3
   },
   "file_extension": ".py",
   "mimetype": "text/x-python",
   "name": "python",
   "nbconvert_exporter": "python",
   "pygments_lexer": "ipython3",
   "version": "3.8.7"
  },
  "orig_nbformat": 2,
  "kernelspec": {
   "name": "python3",
   "display_name": "Python 3.8.7 64-bit",
   "metadata": {
    "interpreter": {
     "hash": "b92f0c51644b651275e3534b9b8e46bd60ea1795ab21c2c2354f4474e8c0d7f1"
    }
   }
  }
 },
 "nbformat": 4,
 "nbformat_minor": 2,
 "cells": [
  {
   "cell_type": "code",
   "execution_count": 2,
   "metadata": {},
   "outputs": [],
   "source": [
    "from PID import PID\n",
    "import numpy as np\n"
   ]
  },
  {
   "cell_type": "code",
   "execution_count": null,
   "metadata": {},
   "outputs": [],
   "source": [
    "pa2psi = @(pa) pa/6895\n",
    "psi2pa = @(psi) psi * 6985\n",
    "\n",
    "class TankEnv(object):\n",
    "\n",
    "    def __init__(self, setpoint, gains, input_pressure):\n",
    "        self.timestep = 0.1 #sampling rate\n",
    "        self.volume = 0.01798071 #m^3\n",
    "        self.rho = 0.164 # he2 density kg/m^3\n",
    "        self.D = 0.0112776 #m\n",
    "        self.Ac_vent = 0.25*np.pi*D**2\n",
    "        self.pressure = input_pressure\n",
    "        self.time = 0\n",
    "        self.since_last_vent = 0\n",
    "        self.time_venting = 0\n",
    "        self.states = {\n",
    "            \"open\": False,\n",
    "            \"close\": True\n",
    "        }\n",
    "        self.controller=PID(setpoint, gains, self.timestep)\n",
    "\n",
    "    def _boil_off(self, t):\n",
    "        #no idea how to model propellant boild off\n",
    "        self.pressure + t*self.rho\n",
    "\n",
    "    def _vent_exit(self, t):\n",
    "        \n",
    "\n",
    "    def step():\n",
    "\n",
    "\n",
    "    \n",
    "\n"
   ]
  }
 ]
}